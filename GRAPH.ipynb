{
 "cells": [
  {
   "cell_type": "markdown",
   "id": "4729ed94",
   "metadata": {},
   "source": [
    "# GRAPH"
   ]
  },
  {
   "cell_type": "code",
   "execution_count": null,
   "id": "050cbbb4",
   "metadata": {},
   "outputs": [],
   "source": []
  },
  {
   "cell_type": "code",
   "execution_count": null,
   "id": "facdf70c",
   "metadata": {},
   "outputs": [],
   "source": [
    "class Graph:\n",
    "    def __init__(self,edges):\n",
    "        self.edges = edges\n",
    "        self.graph_dict = {}\n",
    "        \n",
    "        for start, end in self.edges:\n",
    "            if start in self.graph_dict:\n",
    "                self.graph_dict[start].append(end)\n",
    "            else:\n",
    "                self.graph_dict[start] = [end]\n",
    "        print(\"Graph dict:\", self.graph_dict)\n",
    "        \n",
    "    def get_path(self, start, end, path = []):\n",
    "        \n",
    "        path = path + [start]\n",
    "        \n",
    "        if start == end:\n",
    "            return [path]\n",
    "        \n",
    "        if start not in self.graph_dict:\n",
    "            return []\n",
    "        \n",
    "        paths = []\n",
    "        \n",
    "        for node in self.graph_dict[start]:\n",
    "            if node not in path:\n",
    "                new_paths = self.get_path(node, end, path)\n",
    "                for p in new_paths:\n",
    "                    paths.append(p)\n",
    "                    \n",
    "        return paths \n",
    "    \n",
    "    def get_shortest_path(self, start, end, path = []):\n",
    "        \n",
    "        path = path  +[start]\n",
    "        \n",
    "        if start == end:\n",
    "            return path\n",
    "        \n",
    "        if start not in self.graph_dict:\n",
    "            return None\n",
    "        \n",
    "        shortest_path = None\n",
    "        \n",
    "        for node in self.graph_dict:\n",
    "            \n",
    "            short_path = self.get_shortest_path(node, end, path)\n",
    "            \n",
    "            if short_path:\n",
    "                if shortest_path is None or len(short_path) < len(shortest_path):\n",
    "                    shortest_path = short_path\n",
    "                    \n",
    "                    \n",
    "        return shortest_path            \n",
    "        \n",
    "        \n",
    "if __name__==\"__main__\":\n",
    "    \n",
    "    routes = [('mumbai','paris'),\n",
    "              ('mumbai','dubai'),\n",
    "              ('paris','dubai'),\n",
    "              ('paris','new york'),\n",
    "              ('dubai','new york'),\n",
    "              ('new york','toronto'),]\n",
    "    \n",
    "    route_graph = Graph(routes)\n",
    "    \n",
    "    start = 'mumbai'\n",
    "    end = 'new york'\n",
    "    \n",
    "    print(route_graph.get_path(start,end))\n",
    "    print(\"shortest path:\", route_graph.get_shortest_path(start, end))\n",
    "        "
   ]
  },
  {
   "cell_type": "code",
   "execution_count": 2,
   "id": "c688f60a",
   "metadata": {},
   "outputs": [
    {
     "name": "stdout",
     "output_type": "stream",
     "text": [
      "['a']\n"
     ]
    }
   ],
   "source": [
    "s=[]\n",
    "\n",
    "s=s+['a']\n",
    "print(s)"
   ]
  },
  {
   "cell_type": "code",
   "execution_count": null,
   "id": "1c6e38b3",
   "metadata": {},
   "outputs": [],
   "source": []
  }
 ],
 "metadata": {
  "kernelspec": {
   "display_name": "Python 3 (ipykernel)",
   "language": "python",
   "name": "python3"
  },
  "language_info": {
   "codemirror_mode": {
    "name": "ipython",
    "version": 3
   },
   "file_extension": ".py",
   "mimetype": "text/x-python",
   "name": "python",
   "nbconvert_exporter": "python",
   "pygments_lexer": "ipython3",
   "version": "3.9.7"
  }
 },
 "nbformat": 4,
 "nbformat_minor": 5
}
