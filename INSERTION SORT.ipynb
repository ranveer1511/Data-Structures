{
 "cells": [
  {
   "cell_type": "markdown",
   "id": "e9ac54f1",
   "metadata": {},
   "source": [
    "# Insertion Sort"
   ]
  },
  {
   "cell_type": "code",
   "execution_count": 2,
   "id": "767a7cd6",
   "metadata": {},
   "outputs": [
    {
     "name": "stdout",
     "output_type": "stream",
     "text": [
      "[2, 5, 7, 8, 9, 10, 15, 35, 70]\n"
     ]
    }
   ],
   "source": [
    "def insertion_sort(elemnets):\n",
    "    for i in range(1, len(elements)):\n",
    "        value = elements[i]\n",
    "        j = i-1\n",
    "        \n",
    "        while j>=0 and value < elements[j]:\n",
    "            elemnets[j+1] = elements[j]\n",
    "            j = j-1\n",
    "            \n",
    "        elements[j+1] = value    \n",
    "     \n",
    "    return elements\n",
    "        \n",
    "if __name__ == \"__main__\":\n",
    "    elements = [5, 8, 15, 70, 2, 7, 9, 10, 35]\n",
    "    print(insertion_sort(elements))"
   ]
  },
  {
   "cell_type": "code",
   "execution_count": 6,
   "id": "3a5cade0",
   "metadata": {
    "scrolled": true
   },
   "outputs": [],
   "source": [
    "# Excercise\n"
   ]
  },
  {
   "cell_type": "markdown",
   "id": "9694ee80",
   "metadata": {},
   "source": [
    "Compute the running median of a sequence of numbers. That is, given a stream of numbers, print out the median of the list so far on each new element.\n",
    "\n",
    "Recall that the median of an even-numbered list is the average of the two middle numbers in a sorted list.\n",
    "\n",
    "For example, given the sequence [2, 1, 5, 7, 2, 0, 5], your algorithm should print out:\n",
    "\n",
    "2\n",
    "1.5\n",
    "2\n",
    "3.5\n",
    "2\n",
    "2\n",
    "2"
   ]
  },
  {
   "cell_type": "code",
   "execution_count": null,
   "id": "d215ed07",
   "metadata": {},
   "outputs": [
    {
     "name": "stdout",
     "output_type": "stream",
     "text": [
      "2\n",
      "Median of [2] : 2\n",
      "1\n",
      "Median of [1, 2] : 1.5\n",
      "5\n",
      "Median of [1, 2, 5] : 2\n",
      "7\n",
      "Median of [1, 2, 5, 7] : 3.5\n",
      "2\n",
      "Median of [1, 2, 2, 5, 7] : 2\n",
      "0\n",
      "Median of [0, 1, 2, 2, 5, 7] : 2.0\n",
      "5\n",
      "Median of [0, 1, 2, 2, 5, 5, 7] : 2\n"
     ]
    }
   ],
   "source": [
    "def place_to_insert(array, key):\n",
    "    index = 0\n",
    "    for i in array:\n",
    "        if i > key:\n",
    "            break\n",
    "        else:\n",
    "            index += 1\n",
    "    return index\n",
    "\n",
    "\n",
    "def insert_to_sorted(array, key):\n",
    "    index = place_to_insert(array, key)\n",
    "    return array[0:index]+[key]+array[index:]\n",
    "\n",
    "\n",
    "if __name__ == \"__main__\":\n",
    "    array = [2, 1, 5, 7, 2, 0, 5]\n",
    "\n",
    "    stream = []\n",
    "\n",
    "    count = 0\n",
    "    while(True):\n",
    "        i = int(input())\n",
    "        count += 1\n",
    "        stream = insert_to_sorted(stream, i)\n",
    "        if count % 2 == 1:\n",
    "            print(f\"Median of {stream} : {stream[(count)//2]}\")\n",
    "        else:\n",
    "            i1 = count//2\n",
    "            i2 = (count//2) - 1\n",
    "            print(f\"Median of {stream} : {(stream[i1] + stream[i2])/2}\")"
   ]
  },
  {
   "cell_type": "code",
   "execution_count": 1,
   "id": "6c85f663",
   "metadata": {},
   "outputs": [],
   "source": [
    "def place_to_insert(array, key):\n",
    "    index = 0\n",
    "    for i in array:\n",
    "        if i > key:\n",
    "            break\n",
    "        else:\n",
    "            index += 1\n",
    "    return index"
   ]
  },
  {
   "cell_type": "code",
   "execution_count": 6,
   "id": "cde4c2da",
   "metadata": {},
   "outputs": [
    {
     "name": "stdout",
     "output_type": "stream",
     "text": [
      "1\n"
     ]
    }
   ],
   "source": [
    "print(place_to_insert([1,3],2))"
   ]
  },
  {
   "cell_type": "code",
   "execution_count": null,
   "id": "268105d2",
   "metadata": {},
   "outputs": [],
   "source": []
  }
 ],
 "metadata": {
  "kernelspec": {
   "display_name": "Python 3 (ipykernel)",
   "language": "python",
   "name": "python3"
  },
  "language_info": {
   "codemirror_mode": {
    "name": "ipython",
    "version": 3
   },
   "file_extension": ".py",
   "mimetype": "text/x-python",
   "name": "python",
   "nbconvert_exporter": "python",
   "pygments_lexer": "ipython3",
   "version": "3.9.7"
  }
 },
 "nbformat": 4,
 "nbformat_minor": 5
}
