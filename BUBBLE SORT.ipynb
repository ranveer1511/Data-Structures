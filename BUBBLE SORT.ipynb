{
 "cells": [
  {
   "cell_type": "markdown",
   "id": "fb8c8a53",
   "metadata": {},
   "source": [
    "# Bubble Sort"
   ]
  },
  {
   "cell_type": "code",
   "execution_count": 17,
   "id": "dcae4eff",
   "metadata": {},
   "outputs": [
    {
     "name": "stdout",
     "output_type": "stream",
     "text": [
      "[12, 23, 34, 45, 46, 78, 89, 99, 102]\n"
     ]
    }
   ],
   "source": [
    "def bubble_sort(elements):\n",
    "    \n",
    "    size = len(elements)\n",
    "    \n",
    "    for i in range(size-1):\n",
    "        swapped = False\n",
    "        for j in range(size-1-i):\n",
    "            if elements[j] > elements[j+1]:\n",
    "                tmp = elements[j]\n",
    "                elements[j] = elements[j+1]\n",
    "                elements[j+1] = tmp\n",
    "                \n",
    "                swapped = True\n",
    "        if not swapped:\n",
    "            break\n",
    "            \n",
    "            \n",
    "    return elements        \n",
    "\n",
    "\n",
    "if __name__ == \"__main__\":\n",
    "    elements = [99,78,45,102,12,34,23,89,46]\n",
    "    #elements = [1,2,3,4,5,6,7]\n",
    "    print(bubble_sort(elements))\n",
    "    \n",
    "    #print(elements)"
   ]
  },
  {
   "cell_type": "code",
   "execution_count": 18,
   "id": "781dd6ce",
   "metadata": {},
   "outputs": [],
   "source": [
    "## We have mentioned the swapping case because what if the list is already sorted . means if in first iteration if the \n",
    "## swapping is not done then its already sorted and we can same some time  i.e time complexity is reduced\n",
    "## hence we have taken the variable swapped which will check whether the swapping has done or not\n",
    "## also in other for loop we have put \"-i\" that means every iteration it is is reducing the len of the list by i as last\n",
    "## elements are already sorted"
   ]
  },
  {
   "cell_type": "code",
   "execution_count": 19,
   "id": "054074c0",
   "metadata": {},
   "outputs": [],
   "source": [
    "#------- EXCERCISE------"
   ]
  },
  {
   "cell_type": "code",
   "execution_count": 49,
   "id": "394ff331",
   "metadata": {},
   "outputs": [],
   "source": [
    "d=[{\"a\":1,\"b\":2,\"c\":3},\n",
    "  {\"a\":2,\"b\":3,\"c\":4},\n",
    "  {\"a\":2,\"b\":1,\"c\":4}]"
   ]
  },
  {
   "cell_type": "code",
   "execution_count": 50,
   "id": "40e2af70",
   "metadata": {},
   "outputs": [
    {
     "data": {
      "text/plain": [
       "list"
      ]
     },
     "execution_count": 50,
     "metadata": {},
     "output_type": "execute_result"
    }
   ],
   "source": [
    "type(d)"
   ]
  },
  {
   "cell_type": "code",
   "execution_count": 53,
   "id": "cb8cd29f",
   "metadata": {},
   "outputs": [],
   "source": [
    "d= [{\"a\":1,\"b\":2,\"c\":3},{\"a\":2,\"b\":3,\"c\":4},{\"a\":2,\"b\":1,\"c\":4}]"
   ]
  },
  {
   "cell_type": "code",
   "execution_count": 55,
   "id": "24610117",
   "metadata": {},
   "outputs": [
    {
     "name": "stdout",
     "output_type": "stream",
     "text": [
      "[{'a': 2, 'b': 1, 'c': 4}, {'a': 1, 'b': 2, 'c': 3}, {'a': 2, 'b': 3, 'c': 4}]\n"
     ]
    }
   ],
   "source": [
    "def bubble(d,key):\n",
    "    for j in range(len(d)-1):\n",
    "        for i in range(len(d)-1):\n",
    "            if d[i][key] > d[i+1][key]:\n",
    "                tmp = d[i]\n",
    "                d[i] = d[i+1]\n",
    "                d[i+1] = tmp\n",
    "    return d            \n",
    "\n",
    "if __name__ ==\"__main__\":\n",
    "    d= [{\"a\":1,\"b\":2,\"c\":3},{\"a\":2,\"b\":3,\"c\":4},{\"a\":2,\"b\":1,\"c\":4}]\n",
    "    print(bubble(d,'b'))    "
   ]
  },
  {
   "cell_type": "code",
   "execution_count": 56,
   "id": "faf5d7ea",
   "metadata": {},
   "outputs": [
    {
     "name": "stdout",
     "output_type": "stream",
     "text": [
      "[{'a': 2, 'b': 1, 'c': 4}, {'a': 1, 'b': 2, 'c': 3}, {'a': 2, 'b': 3, 'c': 4}]\n"
     ]
    }
   ],
   "source": [
    "def bubble_sort(elements, key):\n",
    "\n",
    "    size = len(elements)\n",
    "\n",
    "    for i in range(size-1):\n",
    "        for j in range(size-1):\n",
    "            if elements[j][key] > elements[j+1][key]:\n",
    "                tmp = elements[j]\n",
    "                elements[j] = elements[j+1]\n",
    "                elements[j+1] = tmp\n",
    "    return elements   \n",
    "\n",
    "\n",
    "if __name__ == \"__main__\":\n",
    "    elements = [{\"a\":1,\"b\":2,\"c\":3},{\"a\":2,\"b\":3,\"c\":4},{\"a\":2,\"b\":1,\"c\":4}]\n",
    "    print(bubble_sort(elements,'b'))"
   ]
  },
  {
   "cell_type": "code",
   "execution_count": null,
   "id": "3867910a",
   "metadata": {},
   "outputs": [],
   "source": []
  }
 ],
 "metadata": {
  "kernelspec": {
   "display_name": "Python 3 (ipykernel)",
   "language": "python",
   "name": "python3"
  },
  "language_info": {
   "codemirror_mode": {
    "name": "ipython",
    "version": 3
   },
   "file_extension": ".py",
   "mimetype": "text/x-python",
   "name": "python",
   "nbconvert_exporter": "python",
   "pygments_lexer": "ipython3",
   "version": "3.9.7"
  }
 },
 "nbformat": 4,
 "nbformat_minor": 5
}
