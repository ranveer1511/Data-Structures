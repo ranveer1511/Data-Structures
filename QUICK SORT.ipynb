{
 "cells": [
  {
   "cell_type": "markdown",
   "id": "70bcf54f",
   "metadata": {},
   "source": [
    "# Quick Sort"
   ]
  },
  {
   "cell_type": "code",
   "execution_count": 2,
   "id": "b1431fae",
   "metadata": {
    "scrolled": true
   },
   "outputs": [
    {
     "name": "stdout",
     "output_type": "stream",
     "text": [
      "[2, 7, 9, 11, 15, 28, 29]\n"
     ]
    }
   ],
   "source": [
    "def swap(a, b, arr):\n",
    "    if a!=b:\n",
    "        tmp = arr[a]\n",
    "        arr[a] = arr[b]\n",
    "        arr[b] = tmp\n",
    "\n",
    "def partition(elements, start, end):\n",
    "    pivot_index = start\n",
    "    pivot_ele = elements[pivot_index]\n",
    "    \n",
    "    while start < end:\n",
    "        while start < len(elements) and elements[start] <= pivot_ele:\n",
    "            start+=1\n",
    "\n",
    "        while elements[end] > pivot_ele:\n",
    "            end -=1\n",
    "        \n",
    "        if start < end:\n",
    "            swap(start, end, elements) \n",
    "            \n",
    "    swap(pivot_index, end, elements) \n",
    "    \n",
    "    return end\n",
    "\n",
    "def quick_sort(elements,start,end):\n",
    "    \n",
    "    if start<end:\n",
    "        pi = partition(elements,start,end)\n",
    "\n",
    "        quick_sort(elements, start, pi-1) # left partition\n",
    "        quick_sort(elements, pi+1, end) # right partition\n",
    "        \n",
    "if __name__ == \"__main__\":\n",
    "    \n",
    "    elements = [11,9,29,7,2,15,28]\n",
    "    \n",
    "    quick_sort(elements,0, len(elements)-1)\n",
    "    \n",
    "    print(elements)\n",
    "    \n",
    "    "
   ]
  },
  {
   "cell_type": "code",
   "execution_count": null,
   "id": "0a8889dd",
   "metadata": {},
   "outputs": [],
   "source": [
    "Note:\n",
    " [11,9,29,7,2,15,28]  \n",
    "take the first element as pivot here its 11 and put that value in the middle such that the left elments to 11 are\n",
    "less then it and right elements are greter then it. this process is known as partioning"
   ]
  },
  {
   "cell_type": "code",
   "execution_count": 13,
   "id": "f573a1d5",
   "metadata": {},
   "outputs": [],
   "source": [
    "def swap(a,b,arr):\n",
    "    if a!=b:\n",
    "        tmp= arr[a]\n",
    "        arr[a]=arr[b]\n",
    "        arr[b]=tmp\n",
    "        \n",
    "\n",
    "def partition(elements, start, end):\n",
    "    pivot_index=start\n",
    "    pivot_ele = elements[pivot_index]\n",
    "\n",
    "    while start< end:\n",
    "        while start < len(elements) and elements[start] <=pivot_ele:\n",
    "            start+=1\n",
    "\n",
    "        while elements[end]>pivot_ele:\n",
    "            end-=1\n",
    "        if start<end:\n",
    "            swap(start,end, elements)\n",
    "    swap(pivot_index, end, elements)\n",
    "    return end\n",
    "def quicksort(elements,start,end):\n",
    "    if start<end:\n",
    "        pi = partition(elements, start, end)\n",
    "        quicksort(elements, start, pi-1)\n",
    "        quicksort(elements, pi+1, end)\n",
    "\n",
    "  \n",
    "    \n",
    "    "
   ]
  },
  {
   "cell_type": "code",
   "execution_count": 14,
   "id": "664b68da",
   "metadata": {},
   "outputs": [
    {
     "name": "stdout",
     "output_type": "stream",
     "text": [
      "[2, 5, 7, 8, 9, 10, 15, 35, 70]\n"
     ]
    }
   ],
   "source": [
    "elements= [5, 8, 15, 70, 2, 7, 9, 10, 35]\n",
    "quicksort(elements,0,len(elements)-1)\n",
    "print(elements)"
   ]
  },
  {
   "cell_type": "code",
   "execution_count": 3,
   "id": "862d6746",
   "metadata": {},
   "outputs": [
    {
     "name": "stdout",
     "output_type": "stream",
     "text": [
      "[2, 7, 9, 11, 15, 28, 29]\n",
      "[3, 7, 9, 11]\n",
      "[10, 21, 22, 25]\n",
      "[15, 28, 29]\n",
      "[]\n"
     ]
    }
   ],
   "source": [
    "test = [[11,9,29,7,2,15,28], [3,9,7,11],[25,22,21,10],[29,15,28],[]]\n",
    "\n",
    "for elements in test:\n",
    "    quick_sort(elements,0, len(elements)-1)\n",
    "    print(elements)"
   ]
  },
  {
   "cell_type": "code",
   "execution_count": null,
   "id": "d0b42397",
   "metadata": {},
   "outputs": [],
   "source": []
  }
 ],
 "metadata": {
  "kernelspec": {
   "display_name": "Python 3 (ipykernel)",
   "language": "python",
   "name": "python3"
  },
  "language_info": {
   "codemirror_mode": {
    "name": "ipython",
    "version": 3
   },
   "file_extension": ".py",
   "mimetype": "text/x-python",
   "name": "python",
   "nbconvert_exporter": "python",
   "pygments_lexer": "ipython3",
   "version": "3.9.7"
  }
 },
 "nbformat": 4,
 "nbformat_minor": 5
}
