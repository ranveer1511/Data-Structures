{
 "cells": [
  {
   "cell_type": "markdown",
   "id": "4597dc91",
   "metadata": {},
   "source": [
    "# Binary Search"
   ]
  },
  {
   "cell_type": "code",
   "execution_count": 16,
   "id": "2ddede01",
   "metadata": {},
   "outputs": [
    {
     "name": "stdout",
     "output_type": "stream",
     "text": [
      "5\n"
     ]
    }
   ],
   "source": [
    "def linear_search(numbers_list,number_to_find):\n",
    "    \n",
    "    for index, ele in enumerate(numbers_list):\n",
    "        if ele == number_to_find:\n",
    "            return 1\n",
    "    return -1\n",
    "\n",
    "def binary_search(numbers_list,number_to_find):\n",
    "    start_idx = 0\n",
    "    end_idx = len(numbers_list)-1\n",
    "    mid_idx =0\n",
    "    \n",
    "    while start_idx < end_idx:\n",
    "    \n",
    "        mid_idx = (start_idx + end_idx)//2\n",
    "        mid_number = numbers_list[mid_idx]\n",
    "\n",
    "        if number_to_find == mid_number:\n",
    "            return mid_idx\n",
    "\n",
    "        if mid_number < number_to_find:\n",
    "            start_idx = mid_idx+1\n",
    "        else:\n",
    "            end_idx = mid_idx -1\n",
    "        \n",
    "        \n",
    "    return -1 \n",
    "\n",
    "def binary_search_recursive(numbers_list,number_to_find, left_idx, right_idx):\n",
    "    if right_idx< left_idx:\n",
    "        return -1\n",
    "    mid_idx = (left_idx + right_idx)//2\n",
    "    \n",
    "    if mid_idx >= len(numbers_list) or mid_idx <0:\n",
    "        return -1\n",
    "    mid_number = numbers_list[mid_idx]\n",
    "    \n",
    "    if mid_number == number_to_find:\n",
    "        return mid_idx\n",
    "    \n",
    "    if mid_number < number_to_find:\n",
    "        left_idx +=1\n",
    "    else:\n",
    "        right_idx -=1\n",
    "        \n",
    "    return binary_search_recursive(numbers_list,number_to_find, left_idx, right_idx)    \n",
    "    \n",
    "    \n",
    "if __name__ =='__main__':\n",
    "    \n",
    "    print(binary_search_recursive([1,2,3,4,5,6,7],6,0,7))"
   ]
  },
  {
   "cell_type": "code",
   "execution_count": null,
   "id": "df7a82a1",
   "metadata": {},
   "outputs": [],
   "source": []
  }
 ],
 "metadata": {
  "kernelspec": {
   "display_name": "Python 3 (ipykernel)",
   "language": "python",
   "name": "python3"
  },
  "language_info": {
   "codemirror_mode": {
    "name": "ipython",
    "version": 3
   },
   "file_extension": ".py",
   "mimetype": "text/x-python",
   "name": "python",
   "nbconvert_exporter": "python",
   "pygments_lexer": "ipython3",
   "version": "3.9.7"
  }
 },
 "nbformat": 4,
 "nbformat_minor": 5
}
