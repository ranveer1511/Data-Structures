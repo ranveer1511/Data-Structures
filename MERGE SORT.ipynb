{
 "cells": [
  {
   "cell_type": "code",
   "execution_count": null,
   "id": "d288a0d5",
   "metadata": {},
   "outputs": [],
   "source": []
  },
  {
   "cell_type": "code",
   "execution_count": null,
   "id": "4af2d374",
   "metadata": {},
   "outputs": [],
   "source": []
  },
  {
   "cell_type": "code",
   "execution_count": null,
   "id": "d563001b",
   "metadata": {},
   "outputs": [],
   "source": [
    "# Time complexity o(nlogn) space complaxity o(n)"
   ]
  },
  {
   "cell_type": "code",
   "execution_count": 7,
   "id": "7eb6d68c",
   "metadata": {
    "scrolled": true
   },
   "outputs": [
    {
     "name": "stdout",
     "output_type": "stream",
     "text": [
      "[9, 26, 34, 55, 56, 90]\n"
     ]
    }
   ],
   "source": [
    "def merge_sort(arr):\n",
    "    if len(arr)<=1:\n",
    "        return arr\n",
    "    mid = len(arr)//2\n",
    "    left = arr[:mid]\n",
    "    right = arr[mid:]\n",
    "    \n",
    "    left = merge_sort(left)\n",
    "    right = merge_sort(right)\n",
    "    \n",
    "    return merge_two_sorted_list(left,right)\n",
    "\n",
    "def merge_two_sorted_list(a,b):\n",
    "    sort=[]\n",
    "    i=j=0\n",
    "    \n",
    "    while i<len(a) and j<len(b):\n",
    "        if a[i]<=b[j]:\n",
    "            sort.append(a[i])\n",
    "            i+=1\n",
    "        else:\n",
    "            sort.append(b[j])\n",
    "            j+=1\n",
    "    while i<len(a):\n",
    "        sort.append(a[i])\n",
    "        i+=1\n",
    "    while j<len(b):\n",
    "        sort.append(b[j])\n",
    "        j+=1\n",
    "            \n",
    "    return sort        \n",
    "\n",
    "if __name__ ==\"__main__\":\n",
    "    a=[9,56,26,90,34,55]\n",
    "    print(merge_sort(a))"
   ]
  },
  {
   "cell_type": "code",
   "execution_count": null,
   "id": "74f319f2",
   "metadata": {},
   "outputs": [],
   "source": [
    "# Below is with o(nlogn) and space complxcity is also better now"
   ]
  },
  {
   "cell_type": "code",
   "execution_count": 12,
   "id": "15cb7d5a",
   "metadata": {},
   "outputs": [
    {
     "name": "stdout",
     "output_type": "stream",
     "text": [
      "[9, 26, 34, 55, 56, 90]\n"
     ]
    }
   ],
   "source": [
    "def merge_sort(arr):\n",
    "    if len(arr)<=1:\n",
    "        return\n",
    "    mid = len(arr)//2\n",
    "    left = arr[:mid]\n",
    "    right = arr[mid:]\n",
    "    \n",
    "    merge_sort(left)\n",
    "    merge_sort(right)\n",
    "    \n",
    "    merge_two_sorted_list(left,right,arr)\n",
    "\n",
    "def merge_two_sorted_list(a,b,arr):\n",
    "    \n",
    "    i=j=k=0\n",
    "    \n",
    "    while i<len(a) and j<len(b):\n",
    "        if a[i]<=b[j]:\n",
    "            arr[k]=a[i]\n",
    "            i+=1\n",
    "        else:\n",
    "            arr[k]=b[j]\n",
    "            j+=1\n",
    "        k+=1    \n",
    "    while i<len(a):\n",
    "        arr[k]=a[i]\n",
    "        i+=1\n",
    "        k+=1\n",
    "    while j<len(b):\n",
    "        arr[k]=b[j]\n",
    "        j+=1\n",
    "        k+=1\n",
    "            \n",
    "if __name__ ==\"__main__\":\n",
    "    a=[9,56,26,90,34,55]\n",
    "    merge_sort(a)\n",
    "    print(a)"
   ]
  },
  {
   "cell_type": "markdown",
   "id": "914aec97",
   "metadata": {},
   "source": [
    "Merge Sort Exercise\n",
    "Modify merge_sort function such that it can sort following list of athletes as per the time taken by them in the marathon,\n",
    "\n",
    "elements = [\n",
    "        { 'name': 'vedanth',   'age': 17, 'time_hours': 1},\n",
    "        { 'name': 'rajab', 'age': 12,  'time_hours': 3},\n",
    "        { 'name': 'vignesh',  'age': 21,  'time_hours': 2.5},\n",
    "        { 'name': 'chinmay',  'age': 24,  'time_hours': 1.5},\n",
    "    ]\n",
    "merge_sort function should take key from an athlete's marathon log and sort the list as per that key. For example,\n",
    "\n",
    "merge_sort(elements, key='time_hours', descending=True)\n",
    "This will sort elements by time_hours and your sorted list will look like,\n",
    "\n",
    "elements = [\n",
    "        {'name': 'rajab', 'age': 12, 'time_hours': 3},\n",
    "        {'name': 'vignesh', 'age': 21, 'time_hours': 2.5},\n",
    "        {'name': 'chinmay', 'age': 24, 'time_hours': 1.5},\n",
    "        {'name': 'vedanth', 'age': 17, 'time_hours': 1},\n",
    "    ]\n",
    "But if you call it like this,\n",
    "\n",
    "merge_sort(elements, key='name')\n",
    "output will be,\n",
    "\n",
    "elements = [\n",
    "        { 'name': 'chinmay',   'age': 24, 'time_hours': 1.5},\n",
    "        { 'name': 'rajab', 'age': 12,  'time_hours': 3},\n",
    "        { 'name': 'vedanth',  'age': 17,  'time_hours': 1},\n",
    "        { 'name': 'vignesh',  'age': 21,  'time_hours': 2.5},\n",
    "    ]"
   ]
  },
  {
   "cell_type": "code",
   "execution_count": 13,
   "id": "8e6e179c",
   "metadata": {},
   "outputs": [],
   "source": [
    "elements = [ { 'name': 'vedanth', 'age': 17, 'time_hours': 1}, \n",
    "            { 'name': 'rajab', 'age': 12, 'time_hours': 3}, \n",
    "            { 'name': 'vignesh', 'age': 21, 'time_hours': 2.5}, \n",
    "            { 'name': 'chinmay', 'age': 24, 'time_hours': 1.5}, ] "
   ]
  },
  {
   "cell_type": "code",
   "execution_count": 38,
   "id": "93048fa9",
   "metadata": {
    "scrolled": true
   },
   "outputs": [
    {
     "name": "stdout",
     "output_type": "stream",
     "text": [
      "[{'name': 'vedanth', 'age': 17, 'time_hours': 1}, {'name': 'rajab', 'age': 12, 'time_hours': 3}]\n",
      "[{'name': 'vignesh', 'age': 21, 'time_hours': 2.5}, {'name': 'chinmay', 'age': 24, 'time_hours': 1.5}]\n"
     ]
    }
   ],
   "source": [
    "mid = len(elements)//2\n",
    "left = elements[:mid]\n",
    "right = elements[mid:]\n",
    "print(left)\n",
    "print(right)"
   ]
  },
  {
   "cell_type": "code",
   "execution_count": 41,
   "id": "68cf35cd",
   "metadata": {},
   "outputs": [
    {
     "data": {
      "text/plain": [
       "{'name': 'rajab', 'age': 12, 'time_hours': 3}"
      ]
     },
     "execution_count": 41,
     "metadata": {},
     "output_type": "execute_result"
    }
   ],
   "source": [
    "left[1]"
   ]
  },
  {
   "cell_type": "code",
   "execution_count": 4,
   "id": "3c82a9a6",
   "metadata": {},
   "outputs": [
    {
     "name": "stdout",
     "output_type": "stream",
     "text": [
      "[{'name': 'rajab', 'age': 12, 'time_hours': 3}, {'name': 'vedanth', 'age': 17, 'time_hours': 1}, {'name': 'vignesh', 'age': 21, 'time_hours': 2.5}, {'name': 'chinmay', 'age': 24, 'time_hours': 1.5}]\n"
     ]
    }
   ],
   "source": [
    "def merge_sort(arr,key,descending = False):\n",
    "    if len(arr)==1:\n",
    "        return arr\n",
    "    mid = len(arr)//2\n",
    "    left = arr[:mid]\n",
    "    right = arr[mid:]\n",
    "    \n",
    "    left = merge_sort(left,key,descending = False)\n",
    "    right = merge_sort(right,key,descending = False)\n",
    "    \n",
    "    return merge_two_sorted_list(left,right,key,descending = False)\n",
    "\n",
    "def merge_two_sorted_list(left,right,key, descending=False):\n",
    "    merge=[]\n",
    "    if descending:\n",
    "        while len(left) >0 and len(right)>0:\n",
    "            if left[0][key] >= right[0][key]:\n",
    "                merge.append(left.pop(0))\n",
    "            else:\n",
    "                merge.append(right.pop(0))\n",
    "    else:\n",
    "        while len(left) > 0 and len(right) > 0:\n",
    "            if  left[0][key] <= right[0][key]:\n",
    "                merge.append(left.pop(0))\n",
    "            else:    \n",
    "                merge.append(right.pop(0))\n",
    "            \n",
    "            \n",
    "    merge.extend(left)\n",
    "    merge.extend(right)\n",
    "    \n",
    "    return merge\n",
    "\n",
    "if __name__ ==\"__main__\":\n",
    "    elements = [ { 'name': 'vedanth', 'age': 17, 'time_hours': 1}, \n",
    "            { 'name': 'rajab', 'age': 12, 'time_hours': 3}, \n",
    "            { 'name': 'vignesh', 'age': 21, 'time_hours': 2.5}, \n",
    "            { 'name': 'chinmay', 'age': 24, 'time_hours': 1.5}, ] \n",
    "    print(merge_sort(elements,key='age',descending=True))"
   ]
  },
  {
   "cell_type": "code",
   "execution_count": null,
   "id": "09d2d748",
   "metadata": {},
   "outputs": [],
   "source": [
    "def merge_sort(arr):\n",
    "    if len(arr)<=1:\n",
    "        return arr\n",
    "    \n",
    "    mid = len(arr)//2\n",
    "    \n",
    "    left = arr[:mid]\n",
    "    right = arr[mid:]\n",
    "    \n",
    "    merge_sort(left)\n",
    "    merge_sort(right)\n",
    "    \n",
    "    return merge_two_list(left,right)\n",
    "\n",
    "\n",
    "def merge_two_list(left,right):\n",
    "    sorted = []\n",
    "    i=j=0\n",
    "    \n",
    "    while i<len(left) and j<len(right):\n",
    "        if left[i]<=right[j]:\n",
    "            sorted.append(left[i])\n",
    "            i+=1\n",
    "            \n",
    "        else:\n",
    "            sorted.append(right[j])\n",
    "            \n",
    "    while i<len(left):\n",
    "        sorted.append(left[i])\n",
    "        i+=1\n",
    "    while j<len(right):\n",
    "        sorted.append(left[j])\n",
    "        j+=1\n",
    "        \n",
    "    return sorted    \n",
    "            \n",
    "    "
   ]
  },
  {
   "cell_type": "markdown",
   "id": "769278b0",
   "metadata": {},
   "source": [
    "Question:\n",
    "\n",
    "You have a deck of shuffled cards ranging from 0 to 100,000,000. There are 2 sub-ordinate below\n",
    "you and two subordinates below them and it goes on.\n",
    " The job of the sub-ordinate is to split the deck of cards that they received and give it to two\n",
    "sub-ordinate of them. If they receive a deck of cards from their subordinates, they merge it\n",
    "in an ascending order and give it their higher level.\n",
    " If a subordinate received only two card, then he/she himself/herself arrange in ascending\n",
    "order give it back that to the superior.\n",
    " If a subordinate received only one card, then he/she will give back that to the superior.\n",
    "\n",
    "Your job is to find how many people(including you) required to sort the cards and print the sorted deck of cards and number of people required as a tuple."
   ]
  },
  {
   "cell_type": "code",
   "execution_count": 9,
   "id": "44695706",
   "metadata": {},
   "outputs": [],
   "source": [
    "def sort_card(arr):\n",
    "    if len(arr)<=2:\n",
    "        return (sorted(arr),1)\n",
    "    \n",
    "    mid = len(arr)//2\n",
    "    \n",
    "    left = arr[:mid]\n",
    "    right = arr[mid:]\n",
    "    \n",
    "    left, left_people = sort_card(left)\n",
    "    right, right_people = sort_card(right)\n",
    "    \n",
    "\n",
    "    sort = []\n",
    "    i=j=0\n",
    "    \n",
    "    while i<len(left) and j<len(right):\n",
    "        if left[i] < right[j]:\n",
    "            sort.append(left[i])\n",
    "            i+=1\n",
    "        else:\n",
    "            sort.append(right[j])\n",
    "            j+=1\n",
    "    sort += left[i:]  \n",
    "    sort += right[j:]\n",
    "    \n",
    "    required_people = 1+left_people+right_people\n",
    "    \n",
    "    return (sort,required_people)"
   ]
  },
  {
   "cell_type": "code",
   "execution_count": 10,
   "id": "c3a29289",
   "metadata": {},
   "outputs": [
    {
     "data": {
      "text/plain": [
       "([44, 69, 98, 103, 150, 151, 163, 194], 7)"
      ]
     },
     "execution_count": 10,
     "metadata": {},
     "output_type": "execute_result"
    }
   ],
   "source": [
    "arr = [194,69,103,150,151,44,163,98]\n",
    "sort_card(arr)"
   ]
  },
  {
   "cell_type": "code",
   "execution_count": null,
   "id": "b8ca8c97",
   "metadata": {},
   "outputs": [],
   "source": []
  }
 ],
 "metadata": {
  "kernelspec": {
   "display_name": "Python 3 (ipykernel)",
   "language": "python",
   "name": "python3"
  },
  "language_info": {
   "codemirror_mode": {
    "name": "ipython",
    "version": 3
   },
   "file_extension": ".py",
   "mimetype": "text/x-python",
   "name": "python",
   "nbconvert_exporter": "python",
   "pygments_lexer": "ipython3",
   "version": "3.9.7"
  }
 },
 "nbformat": 4,
 "nbformat_minor": 5
}
